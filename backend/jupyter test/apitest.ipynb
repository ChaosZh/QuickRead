{
 "cells": [
  {
   "cell_type": "code",
   "execution_count": 2,
   "metadata": {},
   "outputs": [],
   "source": [
    "# cnblog.py\n",
    "#\n",
    "# Copyright @author chaoszh\n",
    "# Time      2019/10/18\n",
    "# Api docs  http://wcf.open.cnblogs.com/blog/help\n",
    "\n",
    "import requests as rq\n",
    "import json\n",
    "from bs4 import BeautifulSoup as bs\n",
    "import re\n",
    "\n",
    "baseURL = \"http://wcf.open.cnblogs.com/blog\"\n",
    "\n",
    "headers = {\n",
    "    'Accept':'*/*',\n",
    "#     'Accept-Encoding':'gzip, deflate, br',            这个只有浏览器能设置，是属于浏览器的解压工作\n",
    "    'accept-language':'zh-CN,zh;q=0.9',\n",
    "    'Connection':'keep-alive',\n",
    "#     'Content-Length':'151',\n",
    "    'content-type':'application/xml',\n",
    "#     'Cookie':cookie,\n",
    "#     'Host':host,\n",
    "#     'Origin':origin,\n",
    "#     'Referer':referer,\n",
    "    'User-Agent':'Mozilla/5.0 (X11; Linux x86_64) AppleWebKit/537.36 (KHTML, like Gecko) Chrome/55.0.2883.87 Safari/537.36',\n",
    "#     'x-csrf-token':token\n",
    "}\n",
    "\n",
    "def get(url):\n",
    "    return rq.get(baseURL+url, headers=headers)\n",
    "\n",
    "data = get('/TenDaysTopDiggPosts/10')\n",
    "soup = bs(data.text,'lxml')\n",
    "entry_list=soup.find_all('entry')\n",
    "entry_list\n",
    "\n",
    "# /topics\n",
    "def getTopics():\n",
    "    data = get('/TenDaysTopDiggPosts/10')\n",
    "    soup = bs(data.text,'lxml')\n",
    "    entry_list=soup.find_all('entry')\n",
    "    articles=[]\n",
    "    for i in entry_list:\n",
    "        article={\n",
    "            'id':i.id.get_text(),\n",
    "            'title':i.title.get_text(),\n",
    "            'author':i.author.find('name').get_text(),\n",
    "            'time':i.published.get_text(),\n",
    "            'content':i.summary.get_text(),\n",
    "            'from':'博客园',\n",
    "        }\n",
    "        articles.append(article)\n",
    "    return articles\n",
    "\n",
    "# /topic\n",
    "def getTopic(id, title, author, time):\n",
    "    data = get('/post/body/'+str(id))\n",
    "    content = bs(data.text,'lxml').find('string').get_text()\n",
    "    topic={\n",
    "        'title':title,\n",
    "        'author':author,\n",
    "        'time':time,\n",
    "        'content':content\n",
    "    }\n",
    "    return topic"
   ]
  },
  {
   "cell_type": "code",
   "execution_count": 45,
   "metadata": {
    "scrolled": true
   },
   "outputs": [
    {
     "data": {
      "text/plain": [
       "'<h1 id=\"asp.net-core-3.0-更新简记\">asp.net core 3.0 更新简记</h1>\\n<h2 id=\"intro\">Intro</h2>\\n<p>最近把活动室预约项目从 asp.net core 2.2 更新到了 asp.net core 3.0，记录一下，升级踩过的坑以及经验总结，包括但不限于</p>\\n<ul>\\n<li>TargetFramework (<code>netcoreapp2.2</code> 需要更新为 <code>netcoreapp3.0</code>)</li>\\n<li>Dependency</li>\\n<li>Host/Environment</li>\\n<li>Mvc</li>\\n<li>Routing</li>\\n<li>Swagger</li>\\n<li>Dockerfile</li>\\n<li>EF(不推荐更新)</li>\\n</ul>\\n<h2 id=\"targetframework-更新\"><code>TargetFramework</code> 更新</h2>\\n<p>原来项目里的 <code>netcoreapp2.x</code> 版本需要更新为 <code>netcoreapp3.0</code>，原来有些基于 netstandard2.0 的项目的包如果有包更新之后依赖 <code>netstandard2.1</code> 可能需要更新为 <code>netstandard2.1</code>(非必须，看项目依赖)</p>\\n<h2 id=\"dependency\">Dependency</h2>\\n<p>原来在 dotnetcore 2.x 版本时大部分的包以 nuget 的形式提供，可以直接通过 nuget 引用，从 dotnetcore 3.0 开始很多包不再发布 nuget 包，需要通过框架引用来引用包(<code>FrameworkReference</code>)</p>\\n<p>比如在一个类库项目 <code>&lt;Project Sdk=&quot;Microsoft.NET.Sdk&quot;&gt;</code> 里有这么一个引用 <code>&lt;PackageReference Include=&quot;Microsoft.AspNetCore.Mvc.Core&quot; Version=&quot;2.2.2&quot; /&gt;</code>，在 dotnetcore 3.0 并没有发布对应的 nuget 包，需要使用框架引用，示例如下：</p>\\n<pre><code>&lt;FrameworkReference Include=&quot;Microsoft.AspNetCore.App&quot; /&gt;</code></pre>\\n<p>如果是 Web 项目 <code>&lt;Project Sdk=&quot;Microsoft.NET.Sdk.Web&quot;&gt;</code>，Sdk 是 Web 的话直接把 targetFramework 更新的 <code>netcoreapp3.0</code> 就可以了，不需要再添加上面的引用了，项目里 <code>&lt;PackageReference Include=&quot;Microsoft.AspNetCore.App&quot;/&gt;</code> 的引用也可以直接移除了</p>\\n<h2 id=\"host-environment\">Host &amp;&amp; Environment</h2>\\n<p>原来的 <code>IHostingEnvironment</code> 改为了 <code>IWebHostEnvironment</code>，原来注入 <code>IHostingEnvironment</code> 的地方需要修改为注入 <code>IWebHostEnvironment</code></p>\\n<p>原来 <code>Program</code> 里使用的 <code>WebHostBuilder</code> 改为 <code>HostBuilder</code> 并配置 `<code>ConfigureWebHostDefaults</code> `，变更如下：</p>\\n<p><img src=\"https://img2018.cnblogs.com/blog/489462/201910/489462-20191010123317175-1974323914.png\" alt=\"Program.cs\" /></p>\\n<h2 id=\"mvc\">MVC</h2>\\n<h3 id=\"服务注册\">服务注册</h3>\\n<p>3.0 里 MVC 对 <code>Controller</code> 和 <code>RazorPages</code> 以及 <code>RazorViews</code> 整理，注入服务的时候我们可以只注入自己需要的服务，如果是 WebAPI 项目可以只添加 <code>Controller</code> 需要的服务即可，对应的添加方式：</p>\\n<pre class=\"csharp\"><code>services.AddControllers(); // WebAPI\\nservices.AddControllersWithViews(); // MVC\\nservices.AddRazorPages(); // RazorPage</code></pre>\\n<h3 id=\"json-配置\">JSON 配置</h3>\\n<p>asp.net core 3.0 默认使用微软新的 JSON，但是推荐还是用 <code>Newtonsoft.Json</code>，比较成熟而且对很多比较特殊的情况都有处理，已然成为了.NET 里 JSON 序列化的事实标准，使用方式如下：</p>\\n<ol>\\n<li><p>引用 nuget 包 <a href=\"https://nuget.org/packages/Microsoft.AspNetCore.Mvc.NewtonsoftJson\">Microsoft.AspNetCore.Mvc.NewtonsoftJson</a></p></li>\\n<li><p>配置使用 <code>Newtonsoft.Json</code></p></li>\\n</ol>\\n<pre class=\"csharp\"><code>services.AddControllersWithViews()\\n    .AddNewtonsoftJson(options =&gt;\\n    {\\n        options.SerializerSettings.ContractResolver = new DefaultContractResolver();\\n        options.SerializerSettings.DateTimeZoneHandling = DateTimeZoneHandling.Utc; // 设置时区为 UTC\\n    });</code></pre>\\n<h2 id=\"rounting\">Rounting</h2>\\n<p>asp.net core 3.0 推荐使用 endpoint rounting</p>\\n<p>配置方式如下：</p>\\n<pre class=\"csharp\"><code>           app.UseStaticFiles();\\n\\n            app.UseSwagger()\\n                .UseSwaggerUI(c =&gt;\\n                {\\n                    // c.RoutePrefix = string.Empty; //\\n                    c.SwaggerEndpoint($&quot;/swagger/{ApplicationHelper.ApplicationName}/swagger.json&quot;, &quot;活动室预约系统 API&quot;);\\n                    c.DocumentTitle = &quot;活动室预约系统 API&quot;;\\n                });\\n                \\n            app.UseRouting(); // 放在 UseStaticFiles 之后\\n\\n            app.UseCors(builder =&gt; builder.AllowAnyHeader().AllowAnyMethod().AllowAnyOrigin());\\n\\n            app.UseRequestLog();\\n            app.UsePerformanceLog();\\n\\n            app.UseAuthentication();\\n            app.UseAuthorization(); // 放在 UseAuthentication 之后\\n\\n            app.UseEndpoints(endpoints =&gt;\\n            {\\n                endpoints.MapControllers(); // 属性路由\\n                endpoints.MapControllerRoute(&quot;Notice&quot;, &quot;/Notice/{path}.html&quot;, new\\n                {\\n                    controller = &quot;Home&quot;,\\n                    action = &quot;NoticeDetails&quot;\\n                }); // 自定义路由\\n                endpoints.MapControllerRoute(name: &quot;areaRoute&quot;, &quot;{area:exists}/{controller=Home}/{action=Index}&quot;); // 区域路由\\n                endpoints.MapControllerRoute(&quot;default&quot;, &quot;{controller=Home}/{action=Index}/{id?}&quot;); // 默认路由\\n            });\\n</code></pre>\\n<h2 id=\"swagger\">Swagger</h2>\\n<p>更新 swagger 依赖到最新的 5.0.0-rc-x 版本（还没发稳定版，需要显示预览版本才能看到）</p>\\n<pre class=\"csharp\"><code>services.AddSwaggerGen(options =&gt;\\n{\\n    options.SwaggerDoc(ApplicationHelper.ApplicationName, new Microsoft.OpenApi.Models.OpenApiInfo { Title = &quot;活动室预约系统 API&quot;, Version = &quot;1.0&quot; });\\n\\n    options.IncludeXmlComments(System.IO.Path.Combine(AppContext.BaseDirectory, $&quot;{typeof(Models.Notice).Assembly.GetName().Name}.xml&quot;));\\n    options.IncludeXmlComments(System.IO.Path.Combine(AppContext.BaseDirectory, $&quot;{typeof(API.NoticeController).Assembly.GetName().Name}.xml&quot;), true);\\n});</code></pre>\\n<p>这里没有用到 <code>OperationFilter</code>，如果用到了 <code>OperationFilter</code>，可能需要引入 <code>Swashbuckle.AspNetCore.Filters</code> 这个包，详细参考：<a href=\"https://www.cnblogs.com/laozhang-is-phi/p/11520048.html#autoid-6-0-0\" class=\"uri\">https://www.cnblogs.com/laozhang-is-phi/p/11520048.html#autoid-6-0-0</a></p>\\n<h2 id=\"docker\">Docker</h2>\\n<p>Dockerfile 里基础镜像需要更新到 3.0</p>\\n<p>示例 dockerfile:</p>\\n<pre class=\"dockerfile\"><code>FROM mcr.microsoft.com/dotnet/core/sdk:3.0-alpine AS build-env\\nWORKDIR /src\\n\\n# Copy csproj and restore as distinct layers\\nCOPY ActivityReservation.Common/*.csproj ActivityReservation.Common/\\nCOPY ActivityReservation.Models/*.csproj ActivityReservation.Models/\\nCOPY ActivityReservation.DataAccess/*.csproj ActivityReservation.DataAccess/\\nCOPY ActivityReservation.Business/*.csproj ActivityReservation.Business/\\nCOPY ActivityReservation.Helper/*.csproj ActivityReservation.Helper/\\nCOPY ActivityReservation.WechatAPI/*.csproj ActivityReservation.WechatAPI/\\nCOPY ActivityReservation.AdminLogic/*.csproj ActivityReservation.AdminLogic/\\nCOPY ActivityReservation.API/*.csproj ActivityReservation.API/\\nCOPY ActivityReservation/ActivityReservation.csproj ActivityReservation/\\n\\n# RUN dotnet restore ActivityReservation/ActivityReservation.csproj\\n## diff between netcore2.2 and netcore3.0\\nWORKDIR /src/ActivityReservation\\nRUN dotnet restore\\n\\n# copy everything and build\\nCOPY . .\\nRUN dotnet publish -c Release -o out ActivityReservation/ActivityReservation.csproj\\n\\n# build runtime image\\nFROM mcr.microsoft.com/dotnet/core/aspnet:3.0-alpine\\n\\nLABEL Maintainer=&quot;WeihanLi&quot;\\nWORKDIR /app\\nCOPY --from=build-env /src/ActivityReservation/out .\\nEXPOSE 80\\nENTRYPOINT [&quot;dotnet&quot;, &quot;ActivityReservation.dll&quot;]</code></pre>\\n<p>修改基础镜像一般不会有什么问题，需要注意的是如果 dockerfile 里有用到 <code>dotnet publish</code> 且publish 的项目不在当前目录下，可能会遇到这样的问题，最后找不到要发布的文件。</p>\\n<p>dotnet core 3.0 cli 有个 breaking change，如果要发布的项目不在当前目录下，在 2.x 版本是会发布到项目文件所在目录下的，但是 3.0 版本会发布在当前目录下，比如说执行<code>dotnet publish -c Release ./src/ActivityReservation.csproj -o out</code>命令：</p>\\n<p>2.x版本会在 <code>src</code>目录下生成一个 <code>out</code> 文件夹</p>\\n<p>3.0 版本会在当前目录下生成一个 <code>out</code> 文件夹，<code>out</code>文件夹和 <code>src</code> 同级</p>\\n<p>详细问题可以参考 <a href=\"https://github.com/dotnet/cli/issues/12696\" class=\"uri\">https://github.com/dotnet/cli/issues/12696</a></p>\\n<h2 id=\"ef\">EF</h2>\\n<p>EF Core 3.0 和 asp.net core 3.0 完全独立，可以在 asp.net core 3.0 的项目里使用 2.x 的 EF Core</p>\\n<p>EF Core 3.0 有个 breaking change，不再隐式支持客户端渲染数据，这可以让你更清晰的知道哪些条件和在数据库执行的哪些条件是在本地执行的，但是实际试用下来，还是有很多问题的，在 EF 的基础上封装了一层，试用表达式树来拼接查询条件，但是最后执行的时候会有问题，但是简化后的条件实际上并不会在客户端执行任何过滤操作，所以暂时不推荐试用 ef core 3.0，而且更新之后可能会遇到其他的问题，比如在 docker alpine 中部署可能会遇到这个问题，详见issue <a href=\"https://github.com/aspnet/EntityFrameworkCore/issues/18025\" class=\"uri\">https://github.com/aspnet/EntityFrameworkCore/issues/18025</a></p>\\n<p>现在的项目使用 ef core2.1 + asp.net core3.0 运行</p>\\n<h2 id=\"more\">More</h2>\\n<p>其他的地方应该也有需要修改的地方，欢迎补充</p>\\n<h2 id=\"reference\">Reference</h2>\\n<ul>\\n<li><a href=\"https://www.cnblogs.com/stulzq/p/11497624.html\" class=\"uri\">https://www.cnblogs.com/stulzq/p/11497624.html</a></li>\\n<li><a href=\"https://www.cnblogs.com/laozhang-is-phi/p/11520048.html\" class=\"uri\">https://www.cnblogs.com/laozhang-is-phi/p/11520048.html</a></li>\\n<li><a href=\"https://docs.microsoft.com/en-us/aspnet/core/migration/22-to-30?view=aspnetcore-3.0&amp;tabs=visual-studio\" class=\"uri\">https://docs.microsoft.com/en-us/aspnet/core/migration/22-to-30?view=aspnetcore-3.0&amp;tabs=visual-studio</a></li>\\n<li><a href=\"https://github.com/WeihanLi/ActivityReservation/pull/28/files\" class=\"uri\">https://github.com/WeihanLi/ActivityReservation/pull/28/files</a></li>\\n</ul>\\n'"
      ]
     },
     "execution_count": 45,
     "metadata": {},
     "output_type": "execute_result"
    }
   ],
   "source": [
    "getTopic('11637095','.NET斗鱼直播弹幕客户端（上）','.NET骚操作','2019-10-13T00:13:00+08:00')['content']"
   ]
  },
  {
   "cell_type": "code",
   "execution_count": 43,
   "metadata": {
    "scrolled": true
   },
   "outputs": [
    {
     "data": {
      "text/plain": [
       "'<?xml version=\"1.0\" encoding=\"utf-8\"?><string>&lt;h1 id=\"asp.net-core-3.0-更新简记\"&gt;asp.net core 3.0 更新简记&lt;/h1&gt;\\n&lt;h2 id=\"intro\"&gt;Intro&lt;/h2&gt;\\n&lt;p&gt;最近把活动室预约项目从 asp.net core 2.2 更新到了 asp.net core 3.0，记录一下，升级踩过的坑以及经验总结，包括但不限于&lt;/p&gt;\\n&lt;ul&gt;\\n&lt;li&gt;TargetFramework (&lt;code&gt;netcoreapp2.2&lt;/code&gt; 需要更新为 &lt;code&gt;netcoreapp3.0&lt;/code&gt;)&lt;/li&gt;\\n&lt;li&gt;Dependency&lt;/li&gt;\\n&lt;li&gt;Host/Environment&lt;/li&gt;\\n&lt;li&gt;Mvc&lt;/li&gt;\\n&lt;li&gt;Routing&lt;/li&gt;\\n&lt;li&gt;Swagger&lt;/li&gt;\\n&lt;li&gt;Dockerfile&lt;/li&gt;\\n&lt;li&gt;EF(不推荐更新)&lt;/li&gt;\\n&lt;/ul&gt;\\n&lt;h2 id=\"targetframework-更新\"&gt;&lt;code&gt;TargetFramework&lt;/code&gt; 更新&lt;/h2&gt;\\n&lt;p&gt;原来项目里的 &lt;code&gt;netcoreapp2.x&lt;/code&gt; 版本需要更新为 &lt;code&gt;netcoreapp3.0&lt;/code&gt;，原来有些基于 netstandard2.0 的项目的包如果有包更新之后依赖 &lt;code&gt;netstandard2.1&lt;/code&gt; 可能需要更新为 &lt;code&gt;netstandard2.1&lt;/code&gt;(非必须，看项目依赖)&lt;/p&gt;\\n&lt;h2 id=\"dependency\"&gt;Dependency&lt;/h2&gt;\\n&lt;p&gt;原来在 dotnetcore 2.x 版本时大部分的包以 nuget 的形式提供，可以直接通过 nuget 引用，从 dotnetcore 3.0 开始很多包不再发布 nuget 包，需要通过框架引用来引用包(&lt;code&gt;FrameworkReference&lt;/code&gt;)&lt;/p&gt;\\n&lt;p&gt;比如在一个类库项目 &lt;code&gt;&amp;lt;Project Sdk=&amp;quot;Microsoft.NET.Sdk&amp;quot;&amp;gt;&lt;/code&gt; 里有这么一个引用 &lt;code&gt;&amp;lt;PackageReference Include=&amp;quot;Microsoft.AspNetCore.Mvc.Core&amp;quot; Version=&amp;quot;2.2.2&amp;quot; /&amp;gt;&lt;/code&gt;，在 dotnetcore 3.0 并没有发布对应的 nuget 包，需要使用框架引用，示例如下：&lt;/p&gt;\\n&lt;pre&gt;&lt;code&gt;&amp;lt;FrameworkReference Include=&amp;quot;Microsoft.AspNetCore.App&amp;quot; /&amp;gt;&lt;/code&gt;&lt;/pre&gt;\\n&lt;p&gt;如果是 Web 项目 &lt;code&gt;&amp;lt;Project Sdk=&amp;quot;Microsoft.NET.Sdk.Web&amp;quot;&amp;gt;&lt;/code&gt;，Sdk 是 Web 的话直接把 targetFramework 更新的 &lt;code&gt;netcoreapp3.0&lt;/code&gt; 就可以了，不需要再添加上面的引用了，项目里 &lt;code&gt;&amp;lt;PackageReference Include=&amp;quot;Microsoft.AspNetCore.App&amp;quot;/&amp;gt;&lt;/code&gt; 的引用也可以直接移除了&lt;/p&gt;\\n&lt;h2 id=\"host-environment\"&gt;Host &amp;amp;&amp;amp; Environment&lt;/h2&gt;\\n&lt;p&gt;原来的 &lt;code&gt;IHostingEnvironment&lt;/code&gt; 改为了 &lt;code&gt;IWebHostEnvironment&lt;/code&gt;，原来注入 &lt;code&gt;IHostingEnvironment&lt;/code&gt; 的地方需要修改为注入 &lt;code&gt;IWebHostEnvironment&lt;/code&gt;&lt;/p&gt;\\n&lt;p&gt;原来 &lt;code&gt;Program&lt;/code&gt; 里使用的 &lt;code&gt;WebHostBuilder&lt;/code&gt; 改为 &lt;code&gt;HostBuilder&lt;/code&gt; 并配置 `&lt;code&gt;ConfigureWebHostDefaults&lt;/code&gt; `，变更如下：&lt;/p&gt;\\n&lt;p&gt;&lt;img src=\"https://img2018.cnblogs.com/blog/489462/201910/489462-20191010123317175-1974323914.png\" alt=\"Program.cs\" /&gt;&lt;/p&gt;\\n&lt;h2 id=\"mvc\"&gt;MVC&lt;/h2&gt;\\n&lt;h3 id=\"服务注册\"&gt;服务注册&lt;/h3&gt;\\n&lt;p&gt;3.0 里 MVC 对 &lt;code&gt;Controller&lt;/code&gt; 和 &lt;code&gt;RazorPages&lt;/code&gt; 以及 &lt;code&gt;RazorViews&lt;/code&gt; 整理，注入服务的时候我们可以只注入自己需要的服务，如果是 WebAPI 项目可以只添加 &lt;code&gt;Controller&lt;/code&gt; 需要的服务即可，对应的添加方式：&lt;/p&gt;\\n&lt;pre class=\"csharp\"&gt;&lt;code&gt;services.AddControllers(); // WebAPI\\nservices.AddControllersWithViews(); // MVC\\nservices.AddRazorPages(); // RazorPage&lt;/code&gt;&lt;/pre&gt;\\n&lt;h3 id=\"json-配置\"&gt;JSON 配置&lt;/h3&gt;\\n&lt;p&gt;asp.net core 3.0 默认使用微软新的 JSON，但是推荐还是用 &lt;code&gt;Newtonsoft.Json&lt;/code&gt;，比较成熟而且对很多比较特殊的情况都有处理，已然成为了.NET 里 JSON 序列化的事实标准，使用方式如下：&lt;/p&gt;\\n&lt;ol&gt;\\n&lt;li&gt;&lt;p&gt;引用 nuget 包 &lt;a href=\"https://nuget.org/packages/Microsoft.AspNetCore.Mvc.NewtonsoftJson\"&gt;Microsoft.AspNetCore.Mvc.NewtonsoftJson&lt;/a&gt;&lt;/p&gt;&lt;/li&gt;\\n&lt;li&gt;&lt;p&gt;配置使用 &lt;code&gt;Newtonsoft.Json&lt;/code&gt;&lt;/p&gt;&lt;/li&gt;\\n&lt;/ol&gt;\\n&lt;pre class=\"csharp\"&gt;&lt;code&gt;services.AddControllersWithViews()\\n    .AddNewtonsoftJson(options =&amp;gt;\\n    {\\n        options.SerializerSettings.ContractResolver = new DefaultContractResolver();\\n        options.SerializerSettings.DateTimeZoneHandling = DateTimeZoneHandling.Utc; // 设置时区为 UTC\\n    });&lt;/code&gt;&lt;/pre&gt;\\n&lt;h2 id=\"rounting\"&gt;Rounting&lt;/h2&gt;\\n&lt;p&gt;asp.net core 3.0 推荐使用 endpoint rounting&lt;/p&gt;\\n&lt;p&gt;配置方式如下：&lt;/p&gt;\\n&lt;pre class=\"csharp\"&gt;&lt;code&gt;           app.UseStaticFiles();\\n\\n            app.UseSwagger()\\n                .UseSwaggerUI(c =&amp;gt;\\n                {\\n                    // c.RoutePrefix = string.Empty; //\\n                    c.SwaggerEndpoint($&amp;quot;/swagger/{ApplicationHelper.ApplicationName}/swagger.json&amp;quot;, &amp;quot;活动室预约系统 API&amp;quot;);\\n                    c.DocumentTitle = &amp;quot;活动室预约系统 API&amp;quot;;\\n                });\\n                \\n            app.UseRouting(); // 放在 UseStaticFiles 之后\\n\\n            app.UseCors(builder =&amp;gt; builder.AllowAnyHeader().AllowAnyMethod().AllowAnyOrigin());\\n\\n            app.UseRequestLog();\\n            app.UsePerformanceLog();\\n\\n            app.UseAuthentication();\\n            app.UseAuthorization(); // 放在 UseAuthentication 之后\\n\\n            app.UseEndpoints(endpoints =&amp;gt;\\n            {\\n                endpoints.MapControllers(); // 属性路由\\n                endpoints.MapControllerRoute(&amp;quot;Notice&amp;quot;, &amp;quot;/Notice/{path}.html&amp;quot;, new\\n                {\\n                    controller = &amp;quot;Home&amp;quot;,\\n                    action = &amp;quot;NoticeDetails&amp;quot;\\n                }); // 自定义路由\\n                endpoints.MapControllerRoute(name: &amp;quot;areaRoute&amp;quot;, &amp;quot;{area:exists}/{controller=Home}/{action=Index}&amp;quot;); // 区域路由\\n                endpoints.MapControllerRoute(&amp;quot;default&amp;quot;, &amp;quot;{controller=Home}/{action=Index}/{id?}&amp;quot;); // 默认路由\\n            });\\n&lt;/code&gt;&lt;/pre&gt;\\n&lt;h2 id=\"swagger\"&gt;Swagger&lt;/h2&gt;\\n&lt;p&gt;更新 swagger 依赖到最新的 5.0.0-rc-x 版本（还没发稳定版，需要显示预览版本才能看到）&lt;/p&gt;\\n&lt;pre class=\"csharp\"&gt;&lt;code&gt;services.AddSwaggerGen(options =&amp;gt;\\n{\\n    options.SwaggerDoc(ApplicationHelper.ApplicationName, new Microsoft.OpenApi.Models.OpenApiInfo { Title = &amp;quot;活动室预约系统 API&amp;quot;, Version = &amp;quot;1.0&amp;quot; });\\n\\n    options.IncludeXmlComments(System.IO.Path.Combine(AppContext.BaseDirectory, $&amp;quot;{typeof(Models.Notice).Assembly.GetName().Name}.xml&amp;quot;));\\n    options.IncludeXmlComments(System.IO.Path.Combine(AppContext.BaseDirectory, $&amp;quot;{typeof(API.NoticeController).Assembly.GetName().Name}.xml&amp;quot;), true);\\n});&lt;/code&gt;&lt;/pre&gt;\\n&lt;p&gt;这里没有用到 &lt;code&gt;OperationFilter&lt;/code&gt;，如果用到了 &lt;code&gt;OperationFilter&lt;/code&gt;，可能需要引入 &lt;code&gt;Swashbuckle.AspNetCore.Filters&lt;/code&gt; 这个包，详细参考：&lt;a href=\"https://www.cnblogs.com/laozhang-is-phi/p/11520048.html#autoid-6-0-0\" class=\"uri\"&gt;https://www.cnblogs.com/laozhang-is-phi/p/11520048.html#autoid-6-0-0&lt;/a&gt;&lt;/p&gt;\\n&lt;h2 id=\"docker\"&gt;Docker&lt;/h2&gt;\\n&lt;p&gt;Dockerfile 里基础镜像需要更新到 3.0&lt;/p&gt;\\n&lt;p&gt;示例 dockerfile:&lt;/p&gt;\\n&lt;pre class=\"dockerfile\"&gt;&lt;code&gt;FROM mcr.microsoft.com/dotnet/core/sdk:3.0-alpine AS build-env\\nWORKDIR /src\\n\\n# Copy csproj and restore as distinct layers\\nCOPY ActivityReservation.Common/*.csproj ActivityReservation.Common/\\nCOPY ActivityReservation.Models/*.csproj ActivityReservation.Models/\\nCOPY ActivityReservation.DataAccess/*.csproj ActivityReservation.DataAccess/\\nCOPY ActivityReservation.Business/*.csproj ActivityReservation.Business/\\nCOPY ActivityReservation.Helper/*.csproj ActivityReservation.Helper/\\nCOPY ActivityReservation.WechatAPI/*.csproj ActivityReservation.WechatAPI/\\nCOPY ActivityReservation.AdminLogic/*.csproj ActivityReservation.AdminLogic/\\nCOPY ActivityReservation.API/*.csproj ActivityReservation.API/\\nCOPY ActivityReservation/ActivityReservation.csproj ActivityReservation/\\n\\n# RUN dotnet restore ActivityReservation/ActivityReservation.csproj\\n## diff between netcore2.2 and netcore3.0\\nWORKDIR /src/ActivityReservation\\nRUN dotnet restore\\n\\n# copy everything and build\\nCOPY . .\\nRUN dotnet publish -c Release -o out ActivityReservation/ActivityReservation.csproj\\n\\n# build runtime image\\nFROM mcr.microsoft.com/dotnet/core/aspnet:3.0-alpine\\n\\nLABEL Maintainer=&amp;quot;WeihanLi&amp;quot;\\nWORKDIR /app\\nCOPY --from=build-env /src/ActivityReservation/out .\\nEXPOSE 80\\nENTRYPOINT [&amp;quot;dotnet&amp;quot;, &amp;quot;ActivityReservation.dll&amp;quot;]&lt;/code&gt;&lt;/pre&gt;\\n&lt;p&gt;修改基础镜像一般不会有什么问题，需要注意的是如果 dockerfile 里有用到 &lt;code&gt;dotnet publish&lt;/code&gt; 且publish 的项目不在当前目录下，可能会遇到这样的问题，最后找不到要发布的文件。&lt;/p&gt;\\n&lt;p&gt;dotnet core 3.0 cli 有个 breaking change，如果要发布的项目不在当前目录下，在 2.x 版本是会发布到项目文件所在目录下的，但是 3.0 版本会发布在当前目录下，比如说执行&lt;code&gt;dotnet publish -c Release ./src/ActivityReservation.csproj -o out&lt;/code&gt;命令：&lt;/p&gt;\\n&lt;p&gt;2.x版本会在 &lt;code&gt;src&lt;/code&gt;目录下生成一个 &lt;code&gt;out&lt;/code&gt; 文件夹&lt;/p&gt;\\n&lt;p&gt;3.0 版本会在当前目录下生成一个 &lt;code&gt;out&lt;/code&gt; 文件夹，&lt;code&gt;out&lt;/code&gt;文件夹和 &lt;code&gt;src&lt;/code&gt; 同级&lt;/p&gt;\\n&lt;p&gt;详细问题可以参考 &lt;a href=\"https://github.com/dotnet/cli/issues/12696\" class=\"uri\"&gt;https://github.com/dotnet/cli/issues/12696&lt;/a&gt;&lt;/p&gt;\\n&lt;h2 id=\"ef\"&gt;EF&lt;/h2&gt;\\n&lt;p&gt;EF Core 3.0 和 asp.net core 3.0 完全独立，可以在 asp.net core 3.0 的项目里使用 2.x 的 EF Core&lt;/p&gt;\\n&lt;p&gt;EF Core 3.0 有个 breaking change，不再隐式支持客户端渲染数据，这可以让你更清晰的知道哪些条件和在数据库执行的哪些条件是在本地执行的，但是实际试用下来，还是有很多问题的，在 EF 的基础上封装了一层，试用表达式树来拼接查询条件，但是最后执行的时候会有问题，但是简化后的条件实际上并不会在客户端执行任何过滤操作，所以暂时不推荐试用 ef core 3.0，而且更新之后可能会遇到其他的问题，比如在 docker alpine 中部署可能会遇到这个问题，详见issue &lt;a href=\"https://github.com/aspnet/EntityFrameworkCore/issues/18025\" class=\"uri\"&gt;https://github.com/aspnet/EntityFrameworkCore/issues/18025&lt;/a&gt;&lt;/p&gt;\\n&lt;p&gt;现在的项目使用 ef core2.1 + asp.net core3.0 运行&lt;/p&gt;\\n&lt;h2 id=\"more\"&gt;More&lt;/h2&gt;\\n&lt;p&gt;其他的地方应该也有需要修改的地方，欢迎补充&lt;/p&gt;\\n&lt;h2 id=\"reference\"&gt;Reference&lt;/h2&gt;\\n&lt;ul&gt;\\n&lt;li&gt;&lt;a href=\"https://www.cnblogs.com/stulzq/p/11497624.html\" class=\"uri\"&gt;https://www.cnblogs.com/stulzq/p/11497624.html&lt;/a&gt;&lt;/li&gt;\\n&lt;li&gt;&lt;a href=\"https://www.cnblogs.com/laozhang-is-phi/p/11520048.html\" class=\"uri\"&gt;https://www.cnblogs.com/laozhang-is-phi/p/11520048.html&lt;/a&gt;&lt;/li&gt;\\n&lt;li&gt;&lt;a href=\"https://docs.microsoft.com/en-us/aspnet/core/migration/22-to-30?view=aspnetcore-3.0&amp;amp;tabs=visual-studio\" class=\"uri\"&gt;https://docs.microsoft.com/en-us/aspnet/core/migration/22-to-30?view=aspnetcore-3.0&amp;amp;tabs=visual-studio&lt;/a&gt;&lt;/li&gt;\\n&lt;li&gt;&lt;a href=\"https://github.com/WeihanLi/ActivityReservation/pull/28/files\" class=\"uri\"&gt;https://github.com/WeihanLi/ActivityReservation/pull/28/files&lt;/a&gt;&lt;/li&gt;\\n&lt;/ul&gt;\\n</string>'"
      ]
     },
     "execution_count": 43,
     "metadata": {},
     "output_type": "execute_result"
    }
   ],
   "source": [
    "get('/post/body/'+str(11637095)).text"
   ]
  },
  {
   "cell_type": "code",
   "execution_count": 14,
   "metadata": {},
   "outputs": [],
   "source": [
    "t = rq.get(\"https://pv.sohu.com/cityjson?ie=utf-8\",'get')"
   ]
  },
  {
   "cell_type": "code",
   "execution_count": 15,
   "metadata": {},
   "outputs": [
    {
     "data": {
      "text/plain": [
       "'58.41.200.40'"
      ]
     },
     "execution_count": 15,
     "metadata": {},
     "output_type": "execute_result"
    }
   ],
   "source": [
    "t.text\n",
    "import re \n",
    "t = re.search('{(.*)?}',t.text).group()\n",
    "json.loads(t)['cip']"
   ]
  },
  {
   "cell_type": "code",
   "execution_count": 60,
   "metadata": {},
   "outputs": [
    {
     "data": {
      "text/plain": [
       "'{\"code\":0,\"data\":{\"ip\":\"58.41.200.40\",\"country\":\"中国\",\"area\":\"\",\"region\":\"上海\",\"city\":\"上海\",\"county\":\"XX\",\"isp\":\"电信\",\"country_id\":\"CN\",\"area_id\":\"\",\"region_id\":\"310000\",\"city_id\":\"310100\",\"county_id\":\"xx\",\"isp_id\":\"100017\"}}\\n'"
      ]
     },
     "execution_count": 60,
     "metadata": {},
     "output_type": "execute_result"
    }
   ],
   "source": [
    "t.text"
   ]
  },
  {
   "cell_type": "code",
   "execution_count": null,
   "metadata": {},
   "outputs": [],
   "source": []
  }
 ],
 "metadata": {
  "celltoolbar": "Raw Cell Format",
  "kernelspec": {
   "display_name": "Python [conda env:caocao]",
   "language": "python",
   "name": "conda-env-caocao-py"
  },
  "language_info": {
   "codemirror_mode": {
    "name": "ipython",
    "version": 3
   },
   "file_extension": ".py",
   "mimetype": "text/x-python",
   "name": "python",
   "nbconvert_exporter": "python",
   "pygments_lexer": "ipython3",
   "version": "3.6.8"
  }
 },
 "nbformat": 4,
 "nbformat_minor": 2
}
