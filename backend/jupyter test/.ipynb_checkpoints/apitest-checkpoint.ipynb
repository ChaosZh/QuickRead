{
 "cells": [
  {
   "cell_type": "code",
   "execution_count": 94,
   "metadata": {},
   "outputs": [],
   "source": [
    "import requests as rq\n",
    "import json\n",
    "import re\n",
    "\n",
    "#  知乎专栏\n",
    "#  https://github.com/TonnyL/Zhihu_Zhuanlan_APIs/wiki\n",
    "#  知乎日报\n",
    "#  https://github.com/izzyleung/ZhihuDailyPurify/wiki/%E7%9F%A5%E4%B9%8E%E6%97%A5%E6%8A%A5-API-%E5%88%86%E6%9E%90\n",
    "\n",
    "baseURL = \"https://news-at.zhihu.com/api/4/news/latest\"\n",
    "\n",
    "headers = {\n",
    "    'Accept':'*/*',\n",
    "#     'Accept-Encoding':'gzip, deflate, br',            这个只有浏览器能设置，是属于浏览器的解压工作\n",
    "    'accept-language':'zh-CN,zh;q=0.9',\n",
    "    'Connection':'keep-alive',\n",
    "#     'Content-Length':'151',\n",
    "    'content-type':'application/json',\n",
    "#     'Cookie':cookie,\n",
    "#     'Host':host,\n",
    "#     'Origin':origin,\n",
    "#     'Referer':referer,\n",
    "    'User-Agent':'Mozilla/5.0 (X11; Linux x86_64) AppleWebKit/537.36 (KHTML, like Gecko) Chrome/55.0.2883.87 Safari/537.36',\n",
    "#     'x-csrf-token':token\n",
    "}\n",
    "\n",
    "def get(url):\n",
    "    return rq.get(baseURL+url, headers=headers)"
   ]
  },
  {
   "cell_type": "code",
   "execution_count": 97,
   "metadata": {},
   "outputs": [],
   "source": [
    "# /topics\n",
    "data = get('').text\n",
    "res = json.loads(data)\n",
    "\n",
    "stories = res['stories']\n",
    "topics=[]\n",
    "for s in stories:\n",
    "    topic = {\n",
    "        'id':s['id'],\n",
    "        'title':s['title'],\n",
    "        'author':s['hint'],\n",
    "        'from': '知乎',\n",
    "    }\n",
    "    topics.append(topic)"
   ]
  },
  {
   "cell_type": "code",
   "execution_count": 98,
   "metadata": {},
   "outputs": [
    {
     "data": {
      "text/plain": [
       "[{'id': 9716278,\n",
       "  'title': '从事几年的审计工作，能否比企业里的会计更快的提升？',\n",
       "  'author': '猫大叔 · 2 分钟阅读',\n",
       "  'from': '知乎'},\n",
       " {'id': 9716138,\n",
       "  'title': '新能源车起火需在12小时内上报的规定，对新能源车的发展有哪些促进作用？',\n",
       "  'author': '工科男老王 · 3 分钟阅读',\n",
       "  'from': '知乎'},\n",
       " {'id': 9716286,\n",
       "  'title': '大脑佛一点，活得久一点',\n",
       "  'author': '量子位 · 3 分钟阅读',\n",
       "  'from': '知乎'},\n",
       " {'id': 9716308,\n",
       "  'title': '如何看待蜂群传媒疑似「刷量营销」以及「流量造假」行为？',\n",
       "  'author': 'Kiwi · 4 分钟阅读',\n",
       "  'from': '知乎'},\n",
       " {'id': 9716275, 'title': '瞎扯 · 如何正确地吐槽', 'author': 'VOL.2242', 'from': '知乎'}]"
      ]
     },
     "execution_count": 98,
     "metadata": {},
     "output_type": "execute_result"
    }
   ],
   "source": [
    "# res['stories']\n",
    "# res['stories'][0]['url'][-7:]\n",
    "# topics"
   ]
  },
  {
   "cell_type": "code",
   "execution_count": 1,
   "metadata": {},
   "outputs": [],
   "source": [
    "# topic\n",
    "def getTopic(id):\n",
    "    data = get('/topic/'+topicID).text\n",
    "    res = json.loads(data)['data']\n",
    "\n",
    "    article={\n",
    "        'title':res['title'],\n",
    "        'author':res['author']['loginname'],\n",
    "        'time':res['create_at'],\n",
    "        'content':res['content']\n",
    "    }\n",
    "    return article"
   ]
  }
 ],
 "metadata": {
  "kernelspec": {
   "display_name": "Python [conda env:caocao]",
   "language": "python",
   "name": "conda-env-caocao-py"
  },
  "language_info": {
   "codemirror_mode": {
    "name": "ipython",
    "version": 3
   },
   "file_extension": ".py",
   "mimetype": "text/x-python",
   "name": "python",
   "nbconvert_exporter": "python",
   "pygments_lexer": "ipython3",
   "version": "3.6.8"
  }
 },
 "nbformat": 4,
 "nbformat_minor": 2
}
